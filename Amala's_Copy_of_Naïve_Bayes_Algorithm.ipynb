{
  "nbformat": 4,
  "nbformat_minor": 0,
  "metadata": {
    "colab": {
      "name": "Amala's Copy of Naïve Bayes Algorithm.ipynb",
      "provenance": [],
      "collapsed_sections": [],
      "include_colab_link": true
    },
    "kernelspec": {
      "name": "python3",
      "display_name": "Python 3"
    },
    "language_info": {
      "name": "python"
    }
  },
  "cells": [
    {
      "cell_type": "markdown",
      "metadata": {
        "id": "view-in-github",
        "colab_type": "text"
      },
      "source": [
        "<a href=\"https://colab.research.google.com/github/Amalajoy/DataScienceLab/blob/main/Amala's_Copy_of_Na%C3%AFve_Bayes_Algorithm.ipynb\" target=\"_parent\"><img src=\"https://colab.research.google.com/assets/colab-badge.svg\" alt=\"Open In Colab\"/></a>"
      ]
    },
    {
      "cell_type": "markdown",
      "source": [
        "Aim: Program to implement Naïve Bayes Algorithm using any standard dataset\n",
        "available in the public domain and find the accuracy of the algorithm"
      ],
      "metadata": {
        "id": "f4TwDjLCpTcn"
      }
    },
    {
      "cell_type": "markdown",
      "source": [
        "\n",
        "Short notes: Naive Bayes\n",
        "\n",
        "Bayes’ Theorem provides a way that we can calculate the probability of a piece of data belonging to a given class, given our prior knowledge. Bayes’ Theorem is stated as:\n",
        "\n",
        "P(class|data) = (P(data|class) * P(class)) / P(data)\n",
        "\n",
        "Where P(class|data) is the probability of class given the provided data."
      ],
      "metadata": {
        "id": "_23W0JVJq1-V"
      }
    },
    {
      "cell_type": "markdown",
      "source": [
        "We are using Iris Dataset. The Iris Flower Dataset involves predicting the flower species given measurements of iris flowers.\n",
        "\n",
        "It is a multiclass classification problem. The number of observations for each class is balanced. There are 150 observations with 4 input variables and 1 output variable. The variable names are as follows:\n",
        "\n",
        "Sepal length in cm.\n",
        "\n",
        "Sepal width in cm.\n",
        "\n",
        "Petal length in cm.\n",
        "\n",
        "Petal width in cm., and\n",
        "\n",
        "Class.\n",
        "\n",
        "Algorithm:\n",
        "\n",
        "Step 1: Separate By Class.\n",
        "\n",
        "Step 2: Summarize Dataset.\n",
        "\n",
        "Step 3: Summarize Data By Class.\n",
        "\n",
        "Step 4: Gaussian Probability Density Function.\n",
        "\n",
        "Step 5: Class Probabilities."
      ],
      "metadata": {
        "id": "Aq3NJZhGrENv"
      }
    },
    {
      "cell_type": "code",
      "source": [
        "#Import Modules\n",
        "import pandas as pd\n",
        "from sklearn.model_selection import train_test_split\n",
        "from sklearn import  datasets,preprocessing\n",
        "#Load iris dataset & do train_test_split \n",
        "iris=datasets.load_iris()\n",
        "X,y=iris.data[:,:],iris.target\n",
        "x_train,x_test,y_train,y_test=train_test_split(X,y,stratify=y,test_size=0.44,random_state=42)\n"
      ],
      "metadata": {
        "id": "N3sWnWz_rxIR"
      },
      "execution_count": null,
      "outputs": []
    },
    {
      "cell_type": "code",
      "source": [
        "#Feature Scaling\n",
        "scalar=preprocessing.StandardScaler().fit(x_train)\n",
        "x_train=scalar.transform(x_train)\n",
        "x_test=scalar.transform(x_test)"
      ],
      "metadata": {
        "id": "Jq-Uyizutrxu"
      },
      "execution_count": null,
      "outputs": []
    },
    {
      "cell_type": "code",
      "source": [
        "x_train"
      ],
      "metadata": {
        "colab": {
          "base_uri": "https://localhost:8080/"
        },
        "id": "ClgXOF09Rxcj",
        "outputId": "4d8a7703-2d85-4fe6-e8b7-3ea89cc24e1f"
      },
      "execution_count": null,
      "outputs": [
        {
          "output_type": "execute_result",
          "data": {
            "text/plain": [
              "array([[ 0.95688649,  0.5701807 ,  1.07253713,  1.17291376],\n",
              "       [ 0.15539182, -1.84654851,  0.67887182,  0.39303443],\n",
              "       [-0.87510132,  1.66869398, -1.28945476, -1.16672424],\n",
              "       [-0.98960056,  0.78988336, -1.23321685, -1.03674436],\n",
              "       [-1.44759751,  0.78988336, -1.34569266, -1.16672424],\n",
              "       [ 0.49888954,  0.5701807 ,  1.24125084,  1.69283332],\n",
              "       [-0.87510132,  1.00958601, -1.34569266, -1.29670413],\n",
              "       [ 0.04089259,  0.35047805,  0.56639601,  0.7829741 ],\n",
              "       [ 0.95688649,  0.13077539,  0.34144441,  0.26305454],\n",
              "       [ 0.15539182, -1.84654851,  0.1164928 , -0.25686502],\n",
              "       [-0.41710437, -1.4071432 , -0.05222091, -0.25686502],\n",
              "       [-0.18810589,  2.98690992, -1.28945476, -1.03674436],\n",
              "       [-1.67659599, -0.30862992, -1.34569266, -1.29670413],\n",
              "       [-0.87510132,  1.66869398, -1.23321685, -1.29670413],\n",
              "       [ 1.07138573,  0.35047805,  1.18501294,  1.43287354],\n",
              "       [ 1.07138573, -0.52833258,  0.56639601,  0.26305454],\n",
              "       [ 1.75838116, -0.52833258,  1.29748874,  0.91295398],\n",
              "       [ 1.18588497,  0.13077539,  0.62263392,  0.39303443],\n",
              "       [ 0.49888954, -1.18744055,  0.62263392,  0.39303443],\n",
              "       [ 0.49888954, -0.30862992,  1.01629923,  0.7829741 ],\n",
              "       [-1.21859904, -0.08892727, -1.34569266, -1.16672424],\n",
              "       [ 0.26989106, -0.52833258,  0.51015811,  0.00309476],\n",
              "       [ 1.30038421,  0.35047805,  0.51015811,  0.26305454],\n",
              "       [-1.1040998 ,  0.13077539, -1.28945476, -1.42668402],\n",
              "       [ 1.18588497,  0.35047805,  1.07253713,  1.43287354],\n",
              "       [-1.44759751,  0.35047805, -1.34569266, -1.29670413],\n",
              "       [-0.41710437, -1.4071432 ,  0.00401699, -0.12688513],\n",
              "       [-0.07360665, -0.52833258,  0.73510972,  1.56285343],\n",
              "       [-0.87510132,  1.00958601, -1.34569266, -1.16672424],\n",
              "       [-1.21859904,  0.78988336, -1.06450315, -1.29670413],\n",
              "       [-0.53160361,  1.88839664, -1.40193056, -1.03674436],\n",
              "       [ 1.52938268, -0.08892727,  1.12877504,  0.52301432],\n",
              "       [-0.41710437, -1.18744055,  0.1164928 ,  0.13307465],\n",
              "       [-0.07360665, -0.74803523,  0.0602549 ,  0.00309476],\n",
              "       [-1.56209675, -1.62684586, -1.40193056, -1.16672424],\n",
              "       [ 2.10187888, -0.96773789,  1.74739196,  1.43287354],\n",
              "       [-0.87510132,  0.78988336, -1.28945476, -1.29670413],\n",
              "       [-0.98960056,  1.22928867, -1.34569266, -1.29670413],\n",
              "       [ 0.3843903 , -0.52833258,  0.56639601,  0.7829741 ],\n",
              "       [-0.30260513, -0.30862992, -0.10845881,  0.13307465],\n",
              "       [ 2.33087735,  1.66869398,  1.46620245,  1.04293387],\n",
              "       [-0.30260513, -0.52833258,  0.62263392,  1.04293387],\n",
              "       [-1.1040998 ,  0.13077539, -1.28945476, -1.29670413],\n",
              "       [ 2.10187888, -0.08892727,  1.29748874,  1.43287354],\n",
              "       [ 2.10187888,  1.66869398,  1.63491615,  1.30289365],\n",
              "       [-0.98960056, -2.28595383, -0.16469671, -0.25686502],\n",
              "       [-0.76060208,  2.32780195, -1.28945476, -1.42668402],\n",
              "       [ 0.26989106, -0.08892727,  0.45392021,  0.26305454],\n",
              "       [-0.98960056, -0.08892727, -1.23321685, -1.29670413],\n",
              "       [-0.07360665, -0.74803523,  0.73510972,  0.91295398],\n",
              "       [-0.18810589, -1.18744055,  0.67887182,  1.04293387],\n",
              "       [-1.21859904,  0.13077539, -1.23321685, -1.29670413],\n",
              "       [-0.18810589, -0.52833258,  0.1727307 ,  0.13307465],\n",
              "       [ 1.52938268,  0.35047805,  1.24125084,  0.7829741 ],\n",
              "       [-0.07360665, -0.96773789,  0.1164928 ,  0.00309476],\n",
              "       [-0.87510132,  1.66869398, -1.06450315, -1.03674436],\n",
              "       [-1.79109523, -0.08892727, -1.51440636, -1.42668402],\n",
              "       [-0.18810589, -0.08892727,  0.2289686 ,  0.00309476],\n",
              "       [ 0.3843903 , -1.84654851,  0.39768231,  0.39303443],\n",
              "       [-0.53160361,  0.78988336, -1.28945476, -1.03674436],\n",
              "       [ 1.07138573, -0.08892727,  0.96006133,  1.17291376],\n",
              "       [-0.41710437, -0.96773789,  0.34144441,  0.00309476],\n",
              "       [ 0.04089259, -0.08892727,  0.73510972,  0.7829741 ],\n",
              "       [-1.21859904, -0.08892727, -1.34569266, -1.42668402],\n",
              "       [ 1.18588497,  0.13077539,  0.90382343,  1.17291376],\n",
              "       [-0.30260513, -0.08892727,  0.1727307 ,  0.13307465],\n",
              "       [ 0.72788802, -0.52833258,  0.45392021,  0.39303443],\n",
              "       [ 1.52938268,  1.22928867,  1.29748874,  1.69283332],\n",
              "       [ 0.49888954, -1.18744055,  0.67887182,  0.91295398],\n",
              "       [-0.64610284,  1.44899133, -1.28945476, -1.29670413],\n",
              "       [-0.07360665, -0.74803523,  0.73510972,  0.91295398],\n",
              "       [ 0.61338878, -0.52833258,  1.01629923,  1.17291376],\n",
              "       [ 0.61338878, -0.30862992,  0.2852065 ,  0.13307465],\n",
              "       [ 0.15539182, -0.74803523,  0.73510972,  0.52301432],\n",
              "       [ 0.61338878,  0.35047805,  0.84758552,  1.43287354],\n",
              "       [-0.76060208,  1.00958601, -1.28945476, -1.29670413],\n",
              "       [ 1.98737964, -0.08892727,  1.57867825,  1.17291376],\n",
              "       [ 0.72788802,  0.35047805,  0.73510972,  1.04293387],\n",
              "       [-0.18810589, -0.30862992,  0.2289686 ,  0.13307465],\n",
              "       [-1.1040998 ,  1.22928867, -1.34569266, -1.42668402],\n",
              "       [-0.30260513, -0.74803523,  0.2289686 ,  0.13307465],\n",
              "       [-0.18810589, -0.96773789, -0.16469671, -0.25686502],\n",
              "       [ 0.26989106, -0.52833258,  0.1164928 ,  0.13307465],\n",
              "       [-1.44759751,  0.13077539, -1.28945476, -1.29670413]])"
            ]
          },
          "metadata": {},
          "execution_count": 22
        }
      ]
    },
    {
      "cell_type": "markdown",
      "source": [
        "In this step, we introduce the class GaussianNB that is used from the sklearn.naive_bayes library. Here, we have used a Gaussian model, there are several other models such as Bernoulli, Categorical and Multinomial. Here, we assign the GaussianNB class to the variable classifier and fit the X_train and y_train values to it for training purpose."
      ],
      "metadata": {
        "id": "fHscTWiVt8pC"
      }
    },
    {
      "cell_type": "code",
      "source": [
        "#Implement Naive Bayes\n",
        "from sklearn.naive_bayes import GaussianNB\n",
        "from sklearn.metrics import confusion_matrix, classification_report,accuracy_score\n",
        "\n"
      ],
      "metadata": {
        "id": "u0z9mzISuBKw"
      },
      "execution_count": null,
      "outputs": []
    },
    {
      "cell_type": "code",
      "source": [
        "#Predict the values for test data  \n",
        "classifier=GaussianNB()\n",
        "classifier.fit(x_train,y_train)\n",
        "y_predicted=classifier.predict(x_test)\n",
        "\n",
        "# Display accuracy score & display confusion matrix & classification report\n",
        "print(\"accuracy=\",accuracy_score(y_test,y_predicted))\n",
        "print(\"\\nConfusion Matrix-\")\n",
        "print(confusion_matrix(y_test,y_predicted))\n",
        "print(\"\\nClassification Report-\")\n",
        "print(classification_report(y_test,y_predicted))"
      ],
      "metadata": {
        "id": "hv382A48usEq",
        "colab": {
          "base_uri": "https://localhost:8080/"
        },
        "outputId": "245df026-0e75-45bb-f777-90ffc6030fc5"
      },
      "execution_count": null,
      "outputs": [
        {
          "output_type": "stream",
          "name": "stdout",
          "text": [
            "accuracy= 0.9393939393939394\n",
            "\n",
            "Confusion Matrix-\n",
            "[[22  0  0]\n",
            " [ 0 21  1]\n",
            " [ 0  3 19]]\n",
            "\n",
            "Classification Report-\n",
            "              precision    recall  f1-score   support\n",
            "\n",
            "           0       1.00      1.00      1.00        22\n",
            "           1       0.88      0.95      0.91        22\n",
            "           2       0.95      0.86      0.90        22\n",
            "\n",
            "    accuracy                           0.94        66\n",
            "   macro avg       0.94      0.94      0.94        66\n",
            "weighted avg       0.94      0.94      0.94        66\n",
            "\n"
          ]
        }
      ]
    },
    {
      "cell_type": "markdown",
      "source": [
        "From the above confusion matrix, we infer that, out of 45 test set data, 44 were correctly classified and only 1 was incorrectly classified. This gives us a high accuracy of 97.7%."
      ],
      "metadata": {
        "id": "JFg1mUCswAIp"
      }
    },
    {
      "cell_type": "code",
      "source": [
        "#BernouliNB\n",
        "from sklearn.naive_bayes import BernoulliNB\n",
        "classifier=BernoulliNB()\n",
        "classifier.fit(x_train,y_train)\n",
        "y_predicted=classifier.predict(x_test)\n",
        "print(\"accuracy=\",accuracy_score(y_test,y_predicted))\n",
        "print(\"\\nConfusion Matrix-\")\n",
        "print(confusion_matrix(y_test,y_predicted))\n",
        "print(\"\\nClassification Report-\")\n",
        "print(classification_report(y_test,y_predicted))"
      ],
      "metadata": {
        "colab": {
          "base_uri": "https://localhost:8080/"
        },
        "id": "cbaxYjjNMK_-",
        "outputId": "9ae79259-1b7b-41e6-8d15-615982e9d598"
      },
      "execution_count": null,
      "outputs": [
        {
          "output_type": "stream",
          "name": "stdout",
          "text": [
            "accuracy= 0.7575757575757576\n",
            "\n",
            "Confusion Matrix-\n",
            "[[22  0  0]\n",
            " [ 3  7 12]\n",
            " [ 0  1 21]]\n",
            "\n",
            "Classification Report-\n",
            "              precision    recall  f1-score   support\n",
            "\n",
            "           0       0.88      1.00      0.94        22\n",
            "           1       0.88      0.32      0.47        22\n",
            "           2       0.64      0.95      0.76        22\n",
            "\n",
            "    accuracy                           0.76        66\n",
            "   macro avg       0.80      0.76      0.72        66\n",
            "weighted avg       0.80      0.76      0.72        66\n",
            "\n"
          ]
        }
      ]
    }
  ]
}